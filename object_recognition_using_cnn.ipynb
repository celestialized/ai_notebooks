{
  "nbformat": 4,
  "nbformat_minor": 0,
  "metadata": {
    "colab": {
      "name": "object_recognition_using_cnn.ipynb",
      "version": "0.3.2",
      "provenance": [],
      "include_colab_link": true
    },
    "kernelspec": {
      "name": "python3",
      "display_name": "Python 3"
    }
  },
  "cells": [
    {
      "cell_type": "markdown",
      "metadata": {
        "id": "view-in-github",
        "colab_type": "text"
      },
      "source": [
        "<a href=\"https://colab.research.google.com/github/jdmiranda/ai_notebooks/blob/master/object_recognition_using_cnn.ipynb\" target=\"_parent\"><img src=\"https://colab.research.google.com/assets/colab-badge.svg\" alt=\"Open In Colab\"/></a>"
      ]
    },
    {
      "metadata": {
        "id": "RGGZlIcAZViL",
        "colab_type": "text"
      },
      "cell_type": "markdown",
      "source": [
        "# Object Recognition using CNN"
      ]
    },
    {
      "metadata": {
        "id": "Y-6bIvWLbRQJ",
        "colab_type": "text"
      },
      "cell_type": "markdown",
      "source": [
        "## import libraries"
      ]
    },
    {
      "metadata": {
        "id": "FsCe5fJBZaYG",
        "colab_type": "code",
        "colab": {}
      },
      "cell_type": "code",
      "source": [
        "import os # for file handling\n",
        "import pandas as pd # for data handling\n",
        "import numpy as np # for computations\n",
        "import time # to time runs\n",
        "from sklearn import metrics # to evaluate classification accuracy\n",
        "import tensorflow as tf # for neural networks\n",
        "import matplotlib.pyplot as plt # to display images"
      ],
      "execution_count": 0,
      "outputs": []
    },
    {
      "metadata": {
        "id": "RwasaPXhbbUu",
        "colab_type": "text"
      },
      "cell_type": "markdown",
      "source": [
        "## Specify directories and files for input and output"
      ]
    },
    {
      "metadata": {
        "id": "lMzmVUjHZkUS",
        "colab_type": "code",
        "colab": {}
      },
      "cell_type": "code",
      "source": [
        "dataDir = 'data/' # directory for input files\n",
        "modelDir = 'model/' # directory for saved models\n",
        "outputDir = 'output/' # directory for output files"
      ],
      "execution_count": 0,
      "outputs": []
    },
    {
      "metadata": {
        "id": "RXx6GJRVbO1e",
        "colab_type": "text"
      },
      "cell_type": "markdown",
      "source": [
        "# create directories if needed"
      ]
    },
    {
      "metadata": {
        "id": "gCmURFQ6Znkm",
        "colab_type": "code",
        "colab": {}
      },
      "cell_type": "code",
      "source": [
        "os.makedirs(os.path.dirname(modelDir), exist_ok=True) \n",
        "os.makedirs(os.path.dirname(outputDir), exist_ok=True)"
      ],
      "execution_count": 0,
      "outputs": []
    },
    {
      "metadata": {
        "id": "3St5X6iUbopy",
        "colab_type": "text"
      },
      "cell_type": "markdown",
      "source": [
        "## Input files"
      ]
    },
    {
      "metadata": {
        "id": "u2wWsKR5bo30",
        "colab_type": "code",
        "colab": {}
      },
      "cell_type": "code",
      "source": [
        "trainInput = 'hw2q3train.csv' # 60,000 labeled examples for training\n",
        "testInput = 'hw2q3test.csv' # 10,000 labeled examples for testing\n",
        "unlabeledInput = 'hw2q3unlabeled.csv' # 50 unlabeled examples for labeling"
      ],
      "execution_count": 0,
      "outputs": []
    },
    {
      "metadata": {
        "id": "1ie091aVbOgG",
        "colab_type": "text"
      },
      "cell_type": "markdown",
      "source": [
        "## read training and test data"
      ]
    },
    {
      "metadata": {
        "id": "hS7s16J4Zub7",
        "colab_type": "code",
        "colab": {}
      },
      "cell_type": "code",
      "source": [
        "train = pd.read_csv(dataDir+trainInput)\n",
        "test = pd.read_csv(dataDir+testInput)\n",
        "unlabeled = pd.read_csv(dataDir+unlabeledInput)"
      ],
      "execution_count": 0,
      "outputs": []
    },
    {
      "metadata": {
        "id": "9l-EPmB-bN66",
        "colab_type": "text"
      },
      "cell_type": "markdown",
      "source": [
        "# create input feature matrices and output vectors"
      ]
    },
    {
      "metadata": {
        "id": "Kss1lgKRZug9",
        "colab_type": "code",
        "colab": {}
      },
      "cell_type": "code",
      "source": [
        "cols = list(train)\n",
        "trainX, testX = train[cols[1:]].values, test[cols[1:]].values\n",
        "trainY, testY = train[cols[0]].values, test[cols[0]].values\n",
        "unlabeledX = unlabeled[cols[1:]].values"
      ],
      "execution_count": 0,
      "outputs": []
    },
    {
      "metadata": {
        "id": "oKkKm3XdbNkX",
        "colab_type": "text"
      },
      "cell_type": "markdown",
      "source": [
        "# print shape of matrices"
      ]
    },
    {
      "metadata": {
        "id": "mrGtBteVZuk8",
        "colab_type": "code",
        "colab": {}
      },
      "cell_type": "code",
      "source": [
        "matrices = ['trainX', 'trainY', 'testX', 'testY', 'unlabeledX']\n",
        "shapes = [m.shape for m in [trainX, trainY, testX, testY, unlabeledX]]\n",
        "print('Shape of:')\n",
        "for m, s in zip(matrices, shapes):\n",
        "    print('\\t', m, ':\\t', s)"
      ],
      "execution_count": 0,
      "outputs": []
    },
    {
      "metadata": {
        "id": "4m7a31OUbNAH",
        "colab_type": "text"
      },
      "cell_type": "markdown",
      "source": [
        "# Specify model parameters for Convolution Neural Network"
      ]
    },
    {
      "metadata": {
        "id": "3tbDxbL_ZuvK",
        "colab_type": "code",
        "colab": {}
      },
      "cell_type": "code",
      "source": [
        "m = 'CNN' # model name\n",
        "channels_layer1 = 16 # number of output channels for first convolution layer\n",
        "channels_layer2 = 32 # number of output channels for second convolution layer\n",
        "kernel_size = (5,5) # kernel size for convolution layers\n",
        "pool_size = (2,2) # max-pooling size after convolution layers\n",
        "dropOutRate = 0.3 # dropout rate for convolution layer weights\n",
        "denseLayerSize = 512 # number of neurons in dense layer\n",
        "dropOutRateDense = 0.3 # dropout rate for dense layer weights\n",
        "nClasses = 10 # number of output classes\n",
        "batchSize = 128 # batch size for training\n",
        "nEpochs=10 # number of training epochs\n",
        "\n",
        "modelFile = modelDir + m + '.h5' # name for saved model file\n",
        "\n",
        "USE_PRETRAINED_MODEL = True # use available pretrained model?"
      ],
      "execution_count": 0,
      "outputs": []
    },
    {
      "metadata": {
        "id": "CBrg9rddbMiE",
        "colab_type": "text"
      },
      "cell_type": "markdown",
      "source": [
        "# Define CNN model"
      ]
    },
    {
      "metadata": {
        "id": "TQ5hLNvBZ8DW",
        "colab_type": "code",
        "colab": {}
      },
      "cell_type": "code",
      "source": [
        "def cnn(**kwargs):\n",
        "    model = tf.keras.models.Sequential() # create model\n",
        "    \n",
        "    # first convolution layer\n",
        "    model.add(tf.keras.layers.Conv2D(kwargs['channels_layer1'], \n",
        "                                     kwargs['kernel_size'],\n",
        "                                     activation='relu', \n",
        "                                     input_shape=(28, 28, 1)))\n",
        "    # max-pool output of first convolution layer\n",
        "    model.add(tf.keras.layers.MaxPooling2D(pool_size=kwargs['pool_size']))\n",
        "    # drop weights for regularization\n",
        "    model.add(tf.keras.layers.Dropout(kwargs['dropOutRate']))\n",
        "    \n",
        "    # second convolution layer\n",
        "    model.add(tf.keras.layers.Conv2D(kwargs['channels_layer2'], \n",
        "                                     kwargs['kernel_size'], \n",
        "                                     activation='relu'))\n",
        "    # max-pool output of second convolution layer\n",
        "    model.add(tf.keras.layers.MaxPooling2D(pool_size=kwargs['pool_size']))\n",
        "    # drop weights for regularization\n",
        "    model.add(tf.keras.layers.Dropout(kwargs['dropOutRate']))\n",
        "    \n",
        "    # flatten volume to serve as inputs for densely connected layer\n",
        "    model.add(tf.keras.layers.Flatten()) \n",
        "    \n",
        "    # Dense layer\n",
        "    model.add(tf.keras.layers.Dense(kwargs['denseLayerSize'], \n",
        "                                    activation='relu'))\n",
        "    # drop weights for regularization\n",
        "    model.add(tf.keras.layers.Dropout(kwargs['dropOutRateDense']))\n",
        "    \n",
        "    # output softmax layer\n",
        "    model.add(tf.keras.layers.Dense(kwargs['nClasses'], activation='softmax'))\n",
        "    \n",
        "    # compile model\n",
        "    model.compile(loss=tf.keras.losses.categorical_crossentropy,\n",
        "                  optimizer=tf.keras.optimizers.Adadelta(),\n",
        "                  metrics=['accuracy'])\n",
        "    return model"
      ],
      "execution_count": 0,
      "outputs": []
    },
    {
      "metadata": {
        "id": "iWdFjhGVbLqe",
        "colab_type": "text"
      },
      "cell_type": "markdown",
      "source": [
        "# define function to reshape CNN inputs"
      ]
    },
    {
      "metadata": {
        "id": "kFdCuRusZ8GU",
        "colab_type": "code",
        "colab": {}
      },
      "cell_type": "code",
      "source": [
        "def Xform(x):\n",
        "    \"\"\"reshapes input to 28x28 pixels and normalizes\"\"\" \n",
        "    return x.reshape(len(x), 28, 28, 1)/255"
      ],
      "execution_count": 0,
      "outputs": []
    },
    {
      "metadata": {
        "id": "sRIY8YJjbKsI",
        "colab_type": "text"
      },
      "cell_type": "markdown",
      "source": [
        "## working model"
      ]
    },
    {
      "metadata": {
        "id": "AbboNxs4Z8Mf",
        "colab_type": "code",
        "colab": {}
      },
      "cell_type": "code",
      "source": [
        "model = cnn(channels_layer1=channels_layer1,\n",
        "                channels_layer2=channels_layer2,\n",
        "                kernel_size=kernel_size,\n",
        "                pool_size=pool_size,\n",
        "                dropOutRate=dropOutRate,\n",
        "                denseLayerSize=denseLayerSize,\n",
        "                dropOutRateDense=dropOutRateDense,\n",
        "                nClasses=nClasses)"
      ],
      "execution_count": 0,
      "outputs": []
    },
    {
      "metadata": {
        "id": "p6uXZlrZbJ80",
        "colab_type": "text"
      },
      "cell_type": "markdown",
      "source": [
        "## use available pretrained model"
      ]
    },
    {
      "metadata": {
        "id": "A8Dk0TJ9aSf4",
        "colab_type": "code",
        "colab": {}
      },
      "cell_type": "code",
      "source": [
        "if USE_PRETRAINED_MODEL:\n",
        "    try:\n",
        "        model = tf.keras.models.load_model(modelFile)\n",
        "        print('Loaded pre-trained model %s' %modelFile)\n",
        "    except:\n",
        "        print('Pre-trained modelnot available')\n",
        "        # create model using specified parameters\n",
        "\n",
        "model.summary() # display model summary"
      ],
      "execution_count": 0,
      "outputs": []
    },
    {
      "metadata": {
        "id": "MQcq4uAncQvo",
        "colab_type": "text"
      },
      "cell_type": "markdown",
      "source": [
        "# train CNN model"
      ]
    },
    {
      "metadata": {
        "id": "zdHFQI9AcQnU",
        "colab_type": "code",
        "colab": {}
      },
      "cell_type": "code",
      "source": [
        "print(\"Training classifier: %s\" %m)\n",
        "\n",
        "st = time.time() # start time for training and testing\n",
        "\n",
        "model.fit(Xform(trainX), \n",
        "          tf.keras.utils.to_categorical(trainY, nClasses),\n",
        "          batch_size=batchSize, \n",
        "          epochs=nEpochs, \n",
        "          validation_data=None)\n",
        "\n",
        "t = time.time() - st # time to train model\n",
        "print(\"Time to train classifier: %4.2f seconds\\n\" %(t))"
      ],
      "execution_count": 0,
      "outputs": []
    },
    {
      "metadata": {
        "id": "nbQMyRkabJQs",
        "colab_type": "text"
      },
      "cell_type": "markdown",
      "source": [
        "## save trained model"
      ]
    },
    {
      "metadata": {
        "id": "jxvLzkGYaSkt",
        "colab_type": "code",
        "colab": {}
      },
      "cell_type": "code",
      "source": [
        "\n",
        "modelFile = modelDir + m + '.h5' # name for saved model file\n",
        "model.save(modelFile) # save TensorFlow model\n",
        "print('Trained model saved as %s\\n' %modelFile)\n",
        "\n",
        "print(\"Predictions with trained classifier: %s\" %m)"
      ],
      "execution_count": 0,
      "outputs": []
    },
    {
      "metadata": {
        "id": "nHdPtenPbIv4",
        "colab_type": "text"
      },
      "cell_type": "markdown",
      "source": [
        "##  predict test examples with trained model"
      ]
    },
    {
      "metadata": {
        "id": "VomwYmbpaSpC",
        "colab_type": "code",
        "colab": {}
      },
      "cell_type": "code",
      "source": [
        "predictedProb = model.predict(Xform(testX)) # probability of class\n",
        "predicted = np.argmax(predictedProb, axis=1) # most likely label\n",
        "labelProb = np.max(predictedProb, axis=1) # probability of most likely label"
      ],
      "execution_count": 0,
      "outputs": []
    },
    {
      "metadata": {
        "id": "Lk0puxoTbHUO",
        "colab_type": "text"
      },
      "cell_type": "markdown",
      "source": [
        "# evaluate quality of predictions"
      ]
    },
    {
      "metadata": {
        "id": "zAwDY9DVaStd",
        "colab_type": "code",
        "colab": {}
      },
      "cell_type": "code",
      "source": [
        "acc = metrics.accuracy_score(testY, predicted) # accuracy\n",
        "print(\"Accuracy with test data: %4.2f%%\" %(100*acc))"
      ],
      "execution_count": 0,
      "outputs": []
    },
    {
      "metadata": {
        "id": "EWk58RFwbH-s",
        "colab_type": "text"
      },
      "cell_type": "markdown",
      "source": [
        "# save confusion_matrix"
      ]
    },
    {
      "metadata": {
        "id": "wSWrUXVYaSxS",
        "colab_type": "code",
        "colab": {}
      },
      "cell_type": "code",
      "source": [
        "cm = metrics.confusion_matrix(testY, predicted) # confusion_matrix\n",
        "pd.DataFrame(cm).to_csv(outputDir+m+'confusionMatrix.csv') # save"
      ],
      "execution_count": 0,
      "outputs": []
    },
    {
      "metadata": {
        "id": "i19DspGebGso",
        "colab_type": "text"
      },
      "cell_type": "markdown",
      "source": [
        "# print classification report"
      ]
    },
    {
      "metadata": {
        "id": "f-cgO4iFaS1T",
        "colab_type": "code",
        "colab": {}
      },
      "cell_type": "code",
      "source": [
        "print(metrics.classification_report(testY, predicted))"
      ],
      "execution_count": 0,
      "outputs": []
    },
    {
      "metadata": {
        "id": "evIG0nqsbAIj",
        "colab_type": "text"
      },
      "cell_type": "markdown",
      "source": [
        "# predict unlabeled examples with trained model"
      ]
    },
    {
      "metadata": {
        "id": "CHZzZOUdaS5M",
        "colab_type": "code",
        "colab": {}
      },
      "cell_type": "code",
      "source": [
        "predictedUnlabeledProb = model.predict(Xform(unlabeledX)) # prob of class\n",
        "predictedUnlabeled = np.argmax(predictedUnlabeledProb, axis=1) # most likely\n",
        "unlabeledProb = np.max(predictedUnlabeledProb, axis=1) # probability"
      ],
      "execution_count": 0,
      "outputs": []
    },
    {
      "metadata": {
        "id": "jbzMYApRczTq",
        "colab_type": "text"
      },
      "cell_type": "markdown",
      "source": [
        "### display images function"
      ]
    },
    {
      "metadata": {
        "id": "f2oTXs-BaS9i",
        "colab_type": "code",
        "colab": {}
      },
      "cell_type": "code",
      "source": [
        "def displayImages(images, labels):\n",
        "    \"\"\"Displays images with labels (5 per row)\n",
        "    - images: list of vectors with 784 (28x28) grayscale values\n",
        "    - labels: list of digits represented by images\"\"\"\n",
        "    nCols, nRows = 5, np.ceil(len(labels)/5).astype('int') # rows and columns \n",
        "    plt.figure(figsize=(2*nCols,2*nRows)) # figure size\n",
        "    for i in range(len(labels)):\n",
        "        plt.subplot(nRows,nCols,i+1)\n",
        "        plt.xticks([])\n",
        "        plt.yticks([])\n",
        "        plt.grid(False)\n",
        "        plt.imshow(images[i].reshape(28, 28), interpolation='nearest')\n",
        "        plt.xlabel(labels[i], fontsize=12)\n",
        "    plt.show()\n",
        "    return"
      ],
      "execution_count": 0,
      "outputs": []
    },
    {
      "metadata": {
        "id": "fkBRcrZta3Yv",
        "colab_type": "text"
      },
      "cell_type": "markdown",
      "source": [
        "# Display unlabeled images with assigned classes"
      ]
    },
    {
      "metadata": {
        "id": "5hwnEzF-aTBJ",
        "colab_type": "code",
        "colab": {}
      },
      "cell_type": "code",
      "source": [
        "items = ['T-shirt/top', 'Trouser', 'Pullover', 'Dress', 'Coat',\n",
        "          'Sandal', 'Shirt', 'Sneaker', 'Bag', 'Ankle boot']\n",
        "labels = [items[i] for i in predictedUnlabeled] # labels for classes\n",
        "probs = [str(round(p,2)) for p in unlabeledProb]\n",
        "labels = [': '.join([e,p]) for e,p in zip(labels, probs)]\n",
        "displayImages(unlabeledX, labels)"
      ],
      "execution_count": 0,
      "outputs": []
    },
    {
      "metadata": {
        "id": "vGgh4ZEFayJe",
        "colab_type": "text"
      },
      "cell_type": "markdown",
      "source": [
        "\n",
        "# save predictions for unlabeled examples"
      ]
    },
    {
      "metadata": {
        "id": "SKv_1neyZJOi",
        "colab_type": "code",
        "colab": {}
      },
      "cell_type": "code",
      "source": [
        "pd.DataFrame(predictedUnlabeled).to_csv(outputDir+'hw2q3unlabeled.csv', \n",
        "            header=False, index=False)"
      ],
      "execution_count": 0,
      "outputs": []
    }
  ]
}