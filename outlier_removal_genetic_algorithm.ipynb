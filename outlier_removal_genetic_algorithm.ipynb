{
  "nbformat": 4,
  "nbformat_minor": 0,
  "metadata": {
    "colab": {
      "name": "outlier_removal_genetic_algorithm.ipynb",
      "version": "0.3.2",
      "provenance": [],
      "toc_visible": true,
      "include_colab_link": true
    },
    "kernelspec": {
      "name": "python3",
      "display_name": "Python 3"
    }
  },
  "cells": [
    {
      "cell_type": "markdown",
      "metadata": {
        "id": "view-in-github",
        "colab_type": "text"
      },
      "source": [
        "<a href=\"https://colab.research.google.com/github/jdmiranda/ai_notebooks/blob/master/outlier_removal_genetic_algorithm.ipynb\" target=\"_parent\"><img src=\"https://colab.research.google.com/assets/colab-badge.svg\" alt=\"Open In Colab\"/></a>"
      ]
    },
    {
      "metadata": {
        "id": "ZTU7gpsVH9IH",
        "colab_type": "text"
      },
      "cell_type": "markdown",
      "source": [
        "# Outlier Removal GA"
      ]
    },
    {
      "metadata": {
        "id": "_mfr0V8tL1wo",
        "colab_type": "code",
        "colab": {
          "base_uri": "https://localhost:8080/",
          "height": 51
        },
        "outputId": "b59850ec-4fc0-4ec2-8ba9-386b33fd4dd1"
      },
      "cell_type": "code",
      "source": [
        "!pip install -q deap"
      ],
      "execution_count": 2,
      "outputs": [
        {
          "output_type": "stream",
          "text": [
            "\u001b[?25l\r\u001b[K    1% |▍                               | 10kB 18.2MB/s eta 0:00:01\r\u001b[K    2% |▊                               | 20kB 1.1MB/s eta 0:00:01\r\u001b[K    3% |█                               | 30kB 1.7MB/s eta 0:00:01\r\u001b[K    4% |█▍                              | 40kB 1.1MB/s eta 0:00:01\r\u001b[K    5% |█▊                              | 51kB 1.4MB/s eta 0:00:01\r\u001b[K    6% |██                              | 61kB 1.6MB/s eta 0:00:01\r\u001b[K    7% |██▌                             | 71kB 1.9MB/s eta 0:00:01\r\u001b[K    8% |██▉                             | 81kB 2.1MB/s eta 0:00:01\r\u001b[K    9% |███▏                            | 92kB 2.4MB/s eta 0:00:01\r\u001b[K    10% |███▌                            | 102kB 1.8MB/s eta 0:00:01\r\u001b[K    12% |███▉                            | 112kB 1.8MB/s eta 0:00:01\r\u001b[K    13% |████▏                           | 122kB 2.2MB/s eta 0:00:01\r\u001b[K    14% |████▌                           | 133kB 2.2MB/s eta 0:00:01\r\u001b[K    15% |█████                           | 143kB 3.6MB/s eta 0:00:01\r\u001b[K    16% |█████▎                          | 153kB 3.7MB/s eta 0:00:01\r\u001b[K    17% |█████▋                          | 163kB 3.7MB/s eta 0:00:01\r\u001b[K    18% |██████                          | 174kB 3.7MB/s eta 0:00:01\r\u001b[K    19% |██████▎                         | 184kB 3.7MB/s eta 0:00:01\r\u001b[K    20% |██████▋                         | 194kB 3.7MB/s eta 0:00:01\r\u001b[K    21% |███████                         | 204kB 9.8MB/s eta 0:00:01\r\u001b[K    22% |███████▍                        | 215kB 5.5MB/s eta 0:00:01\r\u001b[K    24% |███████▊                        | 225kB 9.3MB/s eta 0:00:01\r\u001b[K    25% |████████                        | 235kB 9.6MB/s eta 0:00:01\r\u001b[K    26% |████████▍                       | 245kB 9.6MB/s eta 0:00:01\r\u001b[K    27% |████████▊                       | 256kB 9.6MB/s eta 0:00:01\r\u001b[K    28% |█████████                       | 266kB 9.3MB/s eta 0:00:01\r\u001b[K    29% |█████████▌                      | 276kB 9.4MB/s eta 0:00:01\r\u001b[K    30% |█████████▉                      | 286kB 9.4MB/s eta 0:00:01\r\u001b[K    31% |██████████▏                     | 296kB 9.4MB/s eta 0:00:01\r\u001b[K    32% |██████████▌                     | 307kB 9.7MB/s eta 0:00:01\r\u001b[K    33% |██████████▉                     | 317kB 47.7MB/s eta 0:00:01\r\u001b[K    34% |███████████▏                    | 327kB 49.6MB/s eta 0:00:01\r\u001b[K    36% |███████████▌                    | 337kB 50.9MB/s eta 0:00:01\r\u001b[K    37% |████████████                    | 348kB 44.9MB/s eta 0:00:01\r\u001b[K    38% |████████████▎                   | 358kB 44.8MB/s eta 0:00:01\r\u001b[K    39% |████████████▋                   | 368kB 53.2MB/s eta 0:00:01\r\u001b[K    40% |█████████████                   | 378kB 53.9MB/s eta 0:00:01\r\u001b[K    41% |█████████████▎                  | 389kB 55.1MB/s eta 0:00:01\r\u001b[K    42% |█████████████▋                  | 399kB 5.9MB/s eta 0:00:01\r\u001b[K    43% |██████████████                  | 409kB 5.8MB/s eta 0:00:01\r\u001b[K    44% |██████████████▍                 | 419kB 5.8MB/s eta 0:00:01\r\u001b[K    45% |██████████████▊                 | 430kB 5.8MB/s eta 0:00:01\r\u001b[K    47% |███████████████                 | 440kB 5.8MB/s eta 0:00:01\r\u001b[K    48% |███████████████▍                | 450kB 5.9MB/s eta 0:00:01\r\u001b[K    49% |███████████████▊                | 460kB 5.8MB/s eta 0:00:01\r\u001b[K    50% |████████████████                | 471kB 5.8MB/s eta 0:00:01\r\u001b[K    51% |████████████████▍               | 481kB 5.8MB/s eta 0:00:01\r\u001b[K    52% |████████████████▉               | 491kB 5.8MB/s eta 0:00:01\r\u001b[K    53% |█████████████████▏              | 501kB 50.0MB/s eta 0:00:01\r\u001b[K    54% |█████████████████▌              | 512kB 49.8MB/s eta 0:00:01\r\u001b[K    55% |█████████████████▉              | 522kB 50.2MB/s eta 0:00:01\r\u001b[K    56% |██████████████████▏             | 532kB 50.4MB/s eta 0:00:01\r\u001b[K    57% |██████████████████▌             | 542kB 50.3MB/s eta 0:00:01\r\u001b[K    59% |███████████████████             | 552kB 57.7MB/s eta 0:00:01\r\u001b[K    60% |███████████████████▎            | 563kB 60.3MB/s eta 0:00:01\r\u001b[K    61% |███████████████████▋            | 573kB 59.8MB/s eta 0:00:01\r\u001b[K    62% |████████████████████            | 583kB 59.8MB/s eta 0:00:01\r\u001b[K    63% |████████████████████▎           | 593kB 59.1MB/s eta 0:00:01\r\u001b[K    64% |████████████████████▋           | 604kB 58.0MB/s eta 0:00:01\r\u001b[K    65% |█████████████████████           | 614kB 63.5MB/s eta 0:00:01\r\u001b[K    66% |█████████████████████▍          | 624kB 62.9MB/s eta 0:00:01\r\u001b[K    67% |█████████████████████▊          | 634kB 62.3MB/s eta 0:00:01\r\u001b[K    68% |██████████████████████          | 645kB 62.0MB/s eta 0:00:01\r\u001b[K    69% |██████████████████████▍         | 655kB 60.6MB/s eta 0:00:01\r\u001b[K    71% |██████████████████████▊         | 665kB 45.7MB/s eta 0:00:01\r\u001b[K    72% |███████████████████████         | 675kB 6.5MB/s eta 0:00:01\r\u001b[K    73% |███████████████████████▍        | 686kB 6.4MB/s eta 0:00:01\r\u001b[K    74% |███████████████████████▉        | 696kB 6.4MB/s eta 0:00:01\r\u001b[K    75% |████████████████████████▏       | 706kB 6.4MB/s eta 0:00:01\r\u001b[K    76% |████████████████████████▌       | 716kB 6.4MB/s eta 0:00:01\r\u001b[K    77% |████████████████████████▉       | 727kB 6.4MB/s eta 0:00:01\r\u001b[K    78% |█████████████████████████▏      | 737kB 6.4MB/s eta 0:00:01\r\u001b[K    79% |█████████████████████████▌      | 747kB 6.4MB/s eta 0:00:01\r\u001b[K    80% |██████████████████████████      | 757kB 6.4MB/s eta 0:00:01\r\u001b[K    82% |██████████████████████████▎     | 768kB 6.6MB/s eta 0:00:01\r\u001b[K    83% |██████████████████████████▋     | 778kB 53.3MB/s eta 0:00:01\r\u001b[K    84% |███████████████████████████     | 788kB 56.8MB/s eta 0:00:01\r\u001b[K    85% |███████████████████████████▎    | 798kB 58.7MB/s eta 0:00:01\r\u001b[K    86% |███████████████████████████▋    | 808kB 59.4MB/s eta 0:00:01\r\u001b[K    87% |████████████████████████████    | 819kB 59.4MB/s eta 0:00:01\r\u001b[K    88% |████████████████████████████▍   | 829kB 58.6MB/s eta 0:00:01\r\u001b[K    89% |████████████████████████████▊   | 839kB 58.6MB/s eta 0:00:01\r\u001b[K    90% |█████████████████████████████   | 849kB 58.9MB/s eta 0:00:01\r\u001b[K    91% |█████████████████████████████▍  | 860kB 50.1MB/s eta 0:00:01\r\u001b[K    92% |█████████████████████████████▊  | 870kB 49.3MB/s eta 0:00:01\r\u001b[K    94% |██████████████████████████████  | 880kB 50.4MB/s eta 0:00:01\r\u001b[K    95% |██████████████████████████████▍ | 890kB 51.5MB/s eta 0:00:01\r\u001b[K    96% |██████████████████████████████▉ | 901kB 51.6MB/s eta 0:00:01\r\u001b[K    97% |███████████████████████████████▏| 911kB 52.2MB/s eta 0:00:01\r\u001b[K    98% |███████████████████████████████▌| 921kB 52.2MB/s eta 0:00:01\r\u001b[K    99% |███████████████████████████████▉| 931kB 52.8MB/s eta 0:00:01\r\u001b[K    100% |████████████████████████████████| 942kB 19.6MB/s \n",
            "\u001b[?25h  Building wheel for deap (setup.py) ... \u001b[?25ldone\n",
            "\u001b[?25h"
          ],
          "name": "stdout"
        }
      ]
    },
    {
      "metadata": {
        "id": "0p_Sa2URHXF9",
        "colab_type": "code",
        "colab": {}
      },
      "cell_type": "code",
      "source": [
        "from time import time # for run times\n",
        "import numpy as np # for cost computation\n",
        "import random # for random number generation\n",
        "from deap import base, creator, tools # deap used for genetic algorithm\n",
        "import matplotlib.pyplot as plt # for figures\n",
        "import pandas as pd # to save results"
      ],
      "execution_count": 0,
      "outputs": []
    },
    {
      "metadata": {
        "id": "L1nC26s1IH9l",
        "colab_type": "code",
        "colab": {}
      },
      "cell_type": "code",
      "source": [
        "#dataDir = 'data/'\n",
        "#fileList = ['outlier'+str(i)+'.txt' for i in range(1,16)]\n",
        "dataDir = './'\n",
        "fileList = ['outlier1.txt']"
      ],
      "execution_count": 0,
      "outputs": []
    },
    {
      "metadata": {
        "id": "E2nmbNI5IKU1",
        "colab_type": "text"
      },
      "cell_type": "markdown",
      "source": [
        "# Specify parameters for Genetic Algorithm"
      ]
    },
    {
      "metadata": {
        "id": "d3XiEHxoIOKz",
        "colab_type": "code",
        "colab": {}
      },
      "cell_type": "code",
      "source": [
        "POPSIZE = 1000 # population size\n",
        "NGEN = 1000 # number of generations\n",
        "CXPB = 0.9 # crossover probability\n",
        "MUTPB = 0.2 # mutation probability\n",
        "INVPB = 0.02 # probability of inverting a bit\n",
        "TSIZE = 3 # tournament size for selection"
      ],
      "execution_count": 0,
      "outputs": []
    },
    {
      "metadata": {
        "id": "pV8Uo_XXITNW",
        "colab_type": "code",
        "colab": {}
      },
      "cell_type": "code",
      "source": [
        "def readProblem(filename):\n",
        "    \"\"\"reads data from filename\"\"\"\n",
        "    f = open(filename)\n",
        "    c = float(f.readline()) # cost factor\n",
        "    d = int(f.readline()) # dimensions\n",
        "    n = int(f.readline()) # number of points\n",
        "    points = {}\n",
        "    for i in range(n):\n",
        "        line = [int(v) for v in f.readline().split(',')]\n",
        "        points[line[0]] = tuple(line[1:])\n",
        "    f.close()\n",
        "    return c, d, n, points"
      ],
      "execution_count": 0,
      "outputs": []
    },
    {
      "metadata": {
        "id": "WD7w1yBIITWv",
        "colab_type": "code",
        "colab": {}
      },
      "cell_type": "code",
      "source": [
        "def sse(x):\n",
        "    \"\"\"Returns sum of squared deviation from mean of points in x\"\"\"\n",
        "    return 0 if len(x)<=1 else len(x)*sum(np.var(x, axis=0))"
      ],
      "execution_count": 0,
      "outputs": []
    },
    {
      "metadata": {
        "id": "MVycle9sITek",
        "colab_type": "code",
        "colab": {}
      },
      "cell_type": "code",
      "source": [
        "def getPoints(individual, points, n):\n",
        "    \"\"\"Returns list of retained points encoded by 'individual'\"\"\"\n",
        "    return [points[i+1] for i in range(n) if individual[i]==1]"
      ],
      "execution_count": 0,
      "outputs": []
    },
    {
      "metadata": {
        "id": "4rvo6npeITlY",
        "colab_type": "code",
        "colab": {}
      },
      "cell_type": "code",
      "source": [
        "def cost(x, n, c, sst):\n",
        "    \"\"\"Returns objective function value given retained points x\"\"\"\n",
        "    return c*(1-len(x)/n) + sse(x)/sst"
      ],
      "execution_count": 0,
      "outputs": []
    },
    {
      "metadata": {
        "id": "kPPhwdQDIijz",
        "colab_type": "code",
        "colab": {}
      },
      "cell_type": "code",
      "source": [
        "def displayFitness(generation, avgFit, minFit, maxFit):\n",
        "    \"\"\"Displays min, max, and average fitness over generations\"\"\"\n",
        "    plt.figure(figsize=(10,8))\n",
        "    plt.plot(generation, avgFit, '--', color='r', label='Average')\n",
        "    plt.plot(generation, minFit, '-', color='g', label='Minimum')\n",
        "    plt.plot(generation, maxFit, '.', color='b', label='Maximum')\n",
        "    plt.legend(bbox_to_anchor=(1.05, 1), loc=2, borderaxespad=0.)\n",
        "    plt.xlabel('Generations')\n",
        "    plt.ylabel('Fitness')\n",
        "    plt.title('Cost over generations')\n",
        "    plt.show()\n",
        "    return"
      ],
      "execution_count": 0,
      "outputs": []
    },
    {
      "metadata": {
        "id": "98V4gJ9MLdiX",
        "colab_type": "code",
        "colab": {}
      },
      "cell_type": "code",
      "source": [
        "def costSolution(individual):\n",
        "        \"\"\"returns solution cost\"\"\"\n",
        "        x = getPoints(individual, points, CLEN) # retained points\n",
        "        return cost(x, CLEN, c, sst)"
      ],
      "execution_count": 0,
      "outputs": []
    },
    {
      "metadata": {
        "id": "8ppVO8UgHB-m",
        "colab_type": "code",
        "colab": {}
      },
      "cell_type": "code",
      "source": [
        " def evolve(POPSIZE, NGEN, CXPB, MUTPB, INVPB, TSIZE):\n",
        "        \"\"\"Evolve a population of size POPSIZE over NGEN generations using DEAP\n",
        "        Output: best solution found by GA \n",
        "        Plots of average and minimum costs over generations, \n",
        "        Displays distribution plan figure\n",
        "        \"\"\"\n",
        "        st = time() # start time\n",
        "        bestSolution, lowestCost = [], float(\"inf\") # current best solution\n",
        "        pop = toolbox.population(n=POPSIZE)\n",
        "        generation, avgFit, maxFit, minFit = [], [], [], [] # to plot results\n",
        "        # Evaluate the entire population\n",
        "        fitnesses = list(map(toolbox.evaluate, pop))\n",
        "        for ind, fit in zip(pop, fitnesses):\n",
        "            ind.fitness.values = fit\n",
        "        print('Evolving generation:')\n",
        "        for g in range(NGEN): # Begin the evolution\n",
        "            print(g, end=\".\")\n",
        "            offspring = toolbox.select(pop, len(pop)) # next generation \n",
        "            offspring = list(map(toolbox.clone, offspring)) # Clone individuals\n",
        "            for child1, child2 in zip(offspring[::2], offspring[1::2]): \n",
        "                if random.random() < CXPB:\n",
        "                    toolbox.mate(child1, child2) # Apply crossover\n",
        "                    del child1.fitness.values\n",
        "                    del child2.fitness.values\n",
        "            for mutant in offspring: \n",
        "                if random.random() < MUTPB:\n",
        "                    toolbox.mutate(mutant) # Apply mutation\n",
        "                    del mutant.fitness.values\n",
        "            invalid_ind = [ind for ind in offspring if not ind.fitness.valid] \n",
        "            fitnesses = map(toolbox.evaluate, invalid_ind)\n",
        "            for ind, fit in zip(invalid_ind, fitnesses):\n",
        "                ind.fitness.values = fit\n",
        "            pop[:] = offspring\n",
        "            fits = [ind.fitness.values[0] for ind in pop] # fitness for stats\n",
        "            mean = sum(fits) / len(pop)\n",
        "            # collect stats for plot\n",
        "            generation.append(g)\n",
        "            avgFit.append(mean)\n",
        "            minFit.append(min(fits))\n",
        "            maxFit.append(max(fits))\n",
        "            best_ind = tools.selBest(pop, 1)[0] # best individual in population\n",
        "            cost = best_ind.fitness.values[0] # cost of  best solution \n",
        "            if cost < lowestCost: # update the best solution found so far\n",
        "                bestSolution, lowestCost = best_ind, cost\n",
        "\n",
        "        print(\"\\n-- End of (successful) evolution --\")\n",
        "        print(\"Minimum cost: %s\" %lowestCost)\n",
        "        NbrS = len(bestSolution)-sum(bestSolution)\n",
        "        print(\"Number suppressed: %s\" %NbrS)\n",
        "        S = ','.join([str(i+1) for i in \n",
        "                      range(len(bestSolution)) if bestSolution[i]==0])      \n",
        "        print('S contains observations %s' %S)\n",
        "        print(\"Evolution Time: %s seconds\" %(time()-st))\n",
        "\n",
        "        displayFitness(generation, avgFit, minFit, maxFit)\n",
        "        return [FILENAME, lowestCost, NbrS, S]"
      ],
      "execution_count": 0,
      "outputs": []
    },
    {
      "metadata": {
        "id": "PRD9rhRNFqhq",
        "colab_type": "code",
        "colab": {}
      },
      "cell_type": "code",
      "source": [
        "def solve(FILENAME, POPSIZE, NGEN, CXPB, MUTPB, INVPB, TSIZE):\n",
        "    \"\"\"Evolves solution for filename\"\"\"\n",
        "    print(\"Input file: %s\" %FILENAME)\n",
        "    c, d, CLEN, points = readProblem(FILENAME)\n",
        "    sst = sse([points[p] for p in points]) # SSE when no outliers are removed\n",
        "    \n",
        "    def costSolution(individual):\n",
        "        \"\"\"returns solution cost\"\"\"\n",
        "        x = getPoints(individual, points, CLEN) # retained points\n",
        "        return cost(x, CLEN, c, sst) , \n",
        "    \n",
        "    # Specify GA using DEAP\n",
        "    creator.create(\"FitnessMin\", base.Fitness, weights=(-1.0,)) # minimize cost\n",
        "    creator.create(\"Individual\", list, fitness=creator.FitnessMin)\n",
        "    toolbox = base.Toolbox()\n",
        "    toolbox.register(\"attr_bool\", random.randint, 0, 1) # 1:retain, 0:remove\n",
        "    toolbox.register(\"individual\", tools.initRepeat, creator.Individual, \n",
        "                     toolbox.attr_bool, CLEN) # chromosome\n",
        "    toolbox.register(\"population\", tools.initRepeat, list, toolbox.individual)\n",
        "    toolbox.register(\"evaluate\", costSolution)\n",
        "    toolbox.register(\"mate\", tools.cxTwoPoint) # 2-point-crossover\n",
        "    toolbox.register(\"mutate\", tools.mutFlipBit, indpb=INVPB) # mutation\n",
        "    toolbox.register(\"select\", tools.selTournament, tournsize=TSIZE) #selection\n",
        "    \n",
        "    def evolve(POPSIZE, NGEN, CXPB, MUTPB, INVPB, TSIZE):\n",
        "        \"\"\"Evolve a population of size POPSIZE over NGEN generations using DEAP\n",
        "        Output: best solution found by GA \n",
        "        Plots of average and minimum costs over generations, \n",
        "        Displays distribution plan figure\n",
        "        \"\"\"\n",
        "        st = time() # start time\n",
        "        bestSolution, lowestCost = [], float(\"inf\") # current best solution\n",
        "        pop = toolbox.population(n=POPSIZE)\n",
        "        generation, avgFit, maxFit, minFit = [], [], [], [] # to plot results\n",
        "        # Evaluate the entire population\n",
        "        fitnesses = list(map(toolbox.evaluate, pop))\n",
        "        for ind, fit in zip(pop, fitnesses):\n",
        "            ind.fitness.values = fit\n",
        "        print('Evolving generation:')\n",
        "        for g in range(NGEN): # Begin the evolution\n",
        "            print(g, end=\".\")\n",
        "            offspring = toolbox.select(pop, len(pop)) # next generation \n",
        "            offspring = list(map(toolbox.clone, offspring)) # Clone individuals\n",
        "            for child1, child2 in zip(offspring[::2], offspring[1::2]): \n",
        "                if random.random() < CXPB:\n",
        "                    toolbox.mate(child1, child2) # Apply crossover\n",
        "                    del child1.fitness.values\n",
        "                    del child2.fitness.values\n",
        "            for mutant in offspring: \n",
        "                if random.random() < MUTPB:\n",
        "                    toolbox.mutate(mutant) # Apply mutation\n",
        "                    del mutant.fitness.values\n",
        "            invalid_ind = [ind for ind in offspring if not ind.fitness.valid] \n",
        "            fitnesses = map(toolbox.evaluate, invalid_ind)\n",
        "            for ind, fit in zip(invalid_ind, fitnesses):\n",
        "                ind.fitness.values = fit\n",
        "            pop[:] = offspring\n",
        "            fits = [ind.fitness.values[0] for ind in pop] # fitness for stats\n",
        "            mean = sum(fits) / len(pop)\n",
        "            # collect stats for plot\n",
        "            generation.append(g)\n",
        "            avgFit.append(mean)\n",
        "            minFit.append(min(fits))\n",
        "            maxFit.append(max(fits))\n",
        "            best_ind = tools.selBest(pop, 1)[0] # best individual in population\n",
        "            cost = best_ind.fitness.values[0] # cost of  best solution \n",
        "            if cost < lowestCost: # update the best solution found so far\n",
        "                bestSolution, lowestCost = best_ind, cost\n",
        "\n",
        "        print(\"\\n-- End of (successful) evolution --\")\n",
        "        print(\"Minimum cost: %s\" %lowestCost)\n",
        "        NbrS = len(bestSolution)-sum(bestSolution)\n",
        "        print(\"Number suppressed: %s\" %NbrS)\n",
        "        S = ','.join([str(i+1) for i in \n",
        "                      range(len(bestSolution)) if bestSolution[i]==0])      \n",
        "        print('S contains observations %s' %S)\n",
        "        print(\"Evolution Time: %s seconds\" %(time()-st))\n",
        "\n",
        "        displayFitness(generation, avgFit, minFit, maxFit)\n",
        "        return [FILENAME, lowestCost, NbrS, S]\n",
        "    return evolve(POPSIZE, NGEN, CXPB, MUTPB, INVPB, TSIZE)"
      ],
      "execution_count": 0,
      "outputs": []
    },
    {
      "metadata": {
        "id": "39ItpksRGoG4",
        "colab_type": "text"
      },
      "cell_type": "markdown",
      "source": [
        "# Solve problem instances"
      ]
    },
    {
      "metadata": {
        "id": "anYuoRfbGkn3",
        "colab_type": "code",
        "colab": {
          "base_uri": "https://localhost:8080/",
          "height": 736
        },
        "outputId": "1503e148-5406-4e4a-c4f8-323f31c3a1cd"
      },
      "cell_type": "code",
      "source": [
        "result = []\n",
        "for fn in fileList:\n",
        "    result.append(solve(dataDir+fn, POPSIZE, NGEN, CXPB, MUTPB, INVPB, TSIZE))\n",
        "\n",
        "result = pd.DataFrame(result, columns=['problem', 'cost', '|S|', 'S'])\n",
        "\n",
        "result.to_csv('HW2Q2results.csv')"
      ],
      "execution_count": 16,
      "outputs": [
        {
          "output_type": "stream",
          "text": [
            "Input file: ./outlier1.txt\n"
          ],
          "name": "stdout"
        },
        {
          "output_type": "stream",
          "text": [
            "/usr/local/lib/python3.6/dist-packages/deap/creator.py:141: RuntimeWarning: A class named 'FitnessMin' has already been created and it will be overwritten. Consider deleting previous creation of that class or rename it.\n",
            "  RuntimeWarning)\n",
            "/usr/local/lib/python3.6/dist-packages/deap/creator.py:141: RuntimeWarning: A class named 'Individual' has already been created and it will be overwritten. Consider deleting previous creation of that class or rename it.\n",
            "  RuntimeWarning)\n"
          ],
          "name": "stderr"
        },
        {
          "output_type": "stream",
          "text": [
            "Evolving generation:\n",
            "0.1.2.3.4.5.6.7.8.9.10.11.12.13.14.15.16.17.18.19.20.21.22.23.24.25.26.27.28.29.30.31.32.33.34.35.36.37.38.39.40.41.42.43.44.45.46.47.48.49.50.51.52.53.54.55.56.57.58.59.60.61.62.63.64.65.66.67.68.69.70.71.72.73.74.75.76.77.78.79.80.81.82.83.84.85.86.87.88.89.90.91.92.93.94.95.96.97.98.99.100.101.102.103.104.105.106.107.108.109.110.111.112.113.114.115.116.117.118.119.120.121.122.123.124.125.126.127.128.129.130.131.132.133.134.135.136.137.138.139.140.141.142.143.144.145.146.147.148.149.150.151.152.153.154.155.156.157.158.159.160.161.162.163.164.165.166.167.168.169.170.171.172.173.174.175.176.177.178.179.180.181.182.183.184.185.186.187.188.189.190.191.192.193.194.195.196.197.198.199.200.201.202.203.204.205.206.207.208.209.210.211.212.213.214.215.216.217.218.219.220.221.222.223.224.225.226.227.228.229.230.231.232.233.234.235.236.237.238.239.240.241.242.243.244.245.246.247.248.249.250.251.252.253.254.255.256.257.258.259.260.261.262.263.264.265.266.267.268.269.270.271.272.273.274.275.276.277.278.279.280.281.282.283.284.285.286.287.288.289.290.291.292.293.294.295.296.297.298.299.300.301.302.303.304.305.306.307.308.309.310.311.312.313.314.315.316.317.318.319.320.321.322.323.324.325.326.327.328.329.330.331.332.333.334.335.336.337.338.339.340.341.342.343.344.345.346.347.348.349.350.351.352.353.354.355.356.357.358.359.360.361.362.363.364.365.366.367.368.369.370.371.372.373.374.375.376.377.378.379.380.381.382.383.384.385.386.387.388.389.390.391.392.393.394.395.396.397.398.399.400.401.402.403.404.405.406.407.408.409.410.411.412.413.414.415.416.417.418.419.420.421.422.423.424.425.426.427.428.429.430.431.432.433.434.435.436.437.438.439.440.441.442.443.444.445.446.447.448.449.450.451.452.453.454.455.456.457.458.459.460.461.462.463.464.465.466.467.468.469.470.471.472.473.474.475.476.477.478.479.480.481.482.483.484.485.486.487.488.489.490.491.492.493.494.495.496.497.498.499.500.501.502.503.504.505.506.507.508.509.510.511.512.513.514.515.516.517.518.519.520.521.522.523.524.525.526.527.528.529.530.531.532.533.534.535.536.537.538.539.540.541.542.543.544.545.546.547.548.549.550.551.552.553.554.555.556.557.558.559.560.561.562.563.564.565.566.567.568.569.570.571.572.573.574.575.576.577.578.579.580.581.582.583.584.585.586.587.588.589.590.591.592.593.594.595.596.597.598.599.600.601.602.603.604.605.606.607.608.609.610.611.612.613.614.615.616.617.618.619.620.621.622.623.624.625.626.627.628.629.630.631.632.633.634.635.636.637.638.639.640.641.642.643.644.645.646.647.648.649.650.651.652.653.654.655.656.657.658.659.660.661.662.663.664.665.666.667.668.669.670.671.672.673.674.675.676.677.678.679.680.681.682.683.684.685.686.687.688.689.690.691.692.693.694.695.696.697.698.699.700.701.702.703.704.705.706.707.708.709.710.711.712.713.714.715.716.717.718.719.720.721.722.723.724.725.726.727.728.729.730.731.732.733.734.735.736.737.738.739.740.741.742.743.744.745.746.747.748.749.750.751.752.753.754.755.756.757.758.759.760.761.762.763.764.765.766.767.768.769.770.771.772.773.774.775.776.777.778.779.780.781.782.783.784.785.786.787.788.789.790.791.792.793.794.795.796.797.798.799.800.801.802.803.804.805.806.807.808.809.810.811.812.813.814.815.816.817.818.819.820.821.822.823.824.825.826.827.828.829.830.831.832.833.834.835.836.837.838.839.840.841.842.843.844.845.846.847.848.849.850.851.852.853.854.855.856.857.858.859.860.861.862.863.864.865.866.867.868.869.870.871.872.873.874.875.876.877.878.879.880.881.882.883.884.885.886.887.888.889.890.891.892.893.894.895.896.897.898.899.900.901.902.903.904.905.906.907.908.909.910.911.912.913.914.915.916.917.918.919.920.921.922.923.924.925.926.927.928.929.930.931.932.933.934.935.936.937.938.939.940.941.942.943.944.945.946.947.948.949.950.951.952.953.954.955.956.957.958.959.960.961.962.963.964.965.966.967.968.969.970.971.972.973.974.975.976.977.978.979.980.981.982.983.984.985.986.987.988.989.990.991.992.993.994.995.996.997.998.999.\n",
            "-- End of (successful) evolution --\n",
            "Minimum cost: 0.9545313343659697\n",
            "Number suppressed: 40\n",
            "S contains observations 1,15,40,42,44,65,88,94,96,99,100,116,139,140,143,151,159,161,165,167,177,194,213,215,216,219,240,260,261,262,263,268,273,277,279,287,290,294,304,308\n",
            "Evolution Time: 563.5414037704468 seconds\n"
          ],
          "name": "stdout"
        },
        {
          "output_type": "display_data",
          "data": {
            "image/png": "[encoded data removed]",
            "text/plain": [
              "<Figure size 720x576 with 1 Axes>"
            ]
          },
          "metadata": {
            "tags": []
          }
        }
      ]
    }
  ]
}